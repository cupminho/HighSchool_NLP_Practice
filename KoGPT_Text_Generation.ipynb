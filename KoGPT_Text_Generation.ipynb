{
 "cells": [
  {
   "cell_type": "markdown",
   "id": "39523095",
   "metadata": {},
   "source": [
    "# KoGPT를 이용한 텍스트 생성 예제\n",
    "\n",
    "이 노트북은 KoGPT를 사용하여 텍스트를 생성하는 예제를 포함하고 있습니다."
   ]
  },
  {
   "cell_type": "markdown",
   "id": "24d166a7",
   "metadata": {},
   "source": [
    "## KoGPT 설치 및 설정\n",
    "\n",
    "먼저, 필요한 라이브러리를 설치하고 KoGPT를 설정합니다."
   ]
  },
  {
   "cell_type": "code",
   "execution_count": null,
   "id": "81aa3934",
   "metadata": {},
   "outputs": [],
   "source": [
    "!pip install transformers torch"
   ]
  },
  {
   "cell_type": "markdown",
   "id": "b640055d",
   "metadata": {},
   "source": [
    "## KoGPT 모델 로드\n",
    "\n",
    "Hugging Face의 Transformers 라이브러리를 사용하여 KoGPT 모델을 로드합니다."
   ]
  },
  {
   "cell_type": "code",
   "execution_count": null,
   "id": "0f737eff",
   "metadata": {},
   "outputs": [],
   "source": [
    "from transformers import GPT2LMHeadModel, PreTrainedTokenizerFast\n",
    "\n",
    "# KoGPT-2 모델과 토크나이저 로드\n",
    "model_name = 'skt/kogpt2-base-v2'\n",
    "model = GPT2LMHeadModel.from_pretrained(model_name)\n",
    "tokenizer = PreTrainedTokenizerFast.from_pretrained(model_name)"
   ]
  },
  {
   "cell_type": "markdown",
   "id": "ca0d3f64",
   "metadata": {},
   "source": [
    "## 텍스트 생성 함수 정의\n",
    "\n",
    "주어진 입력 문장에 이어지는 텍스트를 생성하는 함수를 정의합니다."
   ]
  },
  {
   "cell_type": "code",
   "execution_count": null,
   "id": "ef5d7185",
   "metadata": {},
   "outputs": [],
   "source": [
    "def generate_text(prompt, max_length=100):\n",
    "    input_ids = tokenizer.encode(prompt, return_tensors='pt')\n",
    "    output = model.generate(input_ids, max_length=max_length, num_return_sequences=1, no_repeat_ngram_size=2, early_stopping=True)\n",
    "    generated_text = tokenizer.decode(output[0], skip_special_tokens=True)\n",
    "    return generated_text"
   ]
  },
  {
   "cell_type": "markdown",
   "id": "59b6288c",
   "metadata": {},
   "source": [
    "## 텍스트 생성 예제\n",
    "\n",
    "예제 문장을 입력하고 KoGPT를 사용하여 이어지는 텍스트를 생성합니다."
   ]
  },
  {
   "cell_type": "code",
   "execution_count": null,
   "id": "889963dc",
   "metadata": {},
   "outputs": [],
   "source": [
    "# 예제 문장\n",
    "prompt = \"인공지능은 미래의 기술로서\"\n",
    "generated_text = generate_text(prompt)\n",
    "print(\"입력 문장:\", prompt)\n",
    "print(\"생성된 텍스트:\", generated_text)"
   ]
  },
  {
   "cell_type": "markdown",
   "id": "7873b843",
   "metadata": {},
   "source": [
    "## 추가 실습\n",
    "\n",
    "여러분이 직접 입력 문장을 작성하고 KoGPT를 사용하여 텍스트를 생성해보세요."
   ]
  },
  {
   "cell_type": "code",
   "execution_count": null,
   "id": "7267d573",
   "metadata": {},
   "outputs": [],
   "source": [
    "# 입력 문장을 작성하세요\n",
    "my_prompt = \"여기에 입력 문장을 작성하세요\"\n",
    "my_generated_text = generate_text(my_prompt)\n",
    "print(\"입력 문장:\", my_prompt)\n",
    "print(\"생성된 텍스트:\", my_generated_text)"
   ]
  }
 ],
 "metadata": {},
 "nbformat": 4,
 "nbformat_minor": 5
}
