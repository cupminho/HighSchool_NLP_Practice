{
 "cells": [
  {
   "cell_type": "markdown",
   "id": "197ca414",
   "metadata": {},
   "source": [
    "# 텍스트 파일에서 가장 많이 사용된 명사 상위 10개 출력\n",
    "\n",
    "이 노트북은 텍스트 파일을 업로드한 후, Konlpy 라이브러리를 사용하여 가장 많이 사용된 명사 상위 10개를 출력하는 예제를 포함하고 있습니다."
   ]
  },
  {
   "cell_type": "markdown",
   "id": "576d7812",
   "metadata": {},
   "source": [
    "## Konlpy 라이브러리 설치\n",
    "\n",
    "먼저, Konlpy 라이브러리를 설치해야 합니다. 아래의 명령어를 실행하여 라이브러리를 설치합니다."
   ]
  },
  {
   "cell_type": "code",
   "execution_count": null,
   "id": "925fd64b",
   "metadata": {},
   "outputs": [],
   "source": [
    "!pip install konlpy"
   ]
  },
  {
   "cell_type": "markdown",
   "id": "3d643c98",
   "metadata": {},
   "source": [
    "## 텍스트 파일 업로드\n",
    "\n",
    "아래 코드를 실행하여 텍스트 파일을 업로드합니다."
   ]
  },
  {
   "cell_type": "code",
   "execution_count": null,
   "id": "e62fa53a",
   "metadata": {},
   "outputs": [],
   "source": [
    "from google.colab import files\n",
    "\n",
    "uploaded = files.upload()\n",
    "\n",
    "# 업로드된 파일 이름 가져오기\n",
    "filename = list(uploaded.keys())[0]\n",
    "filename"
   ]
  },
  {
   "cell_type": "markdown",
   "id": "34ee266f",
   "metadata": {},
   "source": [
    "## 파일 읽기 및 명사 추출\n",
    "\n",
    "Konlpy의 Okt 객체를 사용하여 텍스트 파일에서 명사를 추출합니다."
   ]
  },
  {
   "cell_type": "code",
   "execution_count": null,
   "id": "f5801276",
   "metadata": {},
   "outputs": [],
   "source": [
    "from konlpy.tag import Okt\n",
    "from collections import Counter\n",
    "\n",
    "# Okt 객체 생성\n",
    "okt = Okt()\n",
    "\n",
    "# 파일 읽기\n",
    "with open(filename, 'r', encoding='utf-8') as f:\n",
    "    text = f.read()\n",
    "\n",
    "# 명사 추출\n",
    "nouns = okt.nouns(text)\n",
    "\n",
    "# 명사 빈도 계산\n",
    "noun_counts = Counter(nouns)\n",
    "\n",
    "# 가장 많이 사용된 명사 상위 10개\n",
    "top_nouns = noun_counts.most_common(10)\n",
    "top_nouns"
   ]
  },
  {
   "cell_type": "markdown",
   "id": "ca474d19",
   "metadata": {},
   "source": [
    "## 결과 출력\n",
    "\n",
    "가장 많이 사용된 명사 상위 10개를 출력합니다."
   ]
  },
  {
   "cell_type": "code",
   "execution_count": null,
   "id": "3b32d2ec",
   "metadata": {},
   "outputs": [],
   "source": [
    "print(\"가장 많이 사용된 명사 상위 10개:\")\n",
    "for noun, count in top_nouns:\n",
    "    print(f\"{noun}: {count}번\")"
   ]
  }
 ],
 "metadata": {},
 "nbformat": 4,
 "nbformat_minor": 5
}
