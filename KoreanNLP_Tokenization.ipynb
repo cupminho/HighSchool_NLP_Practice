{
 "cells": [
  {
   "cell_type": "markdown",
   "id": "2fced45c",
   "metadata": {},
   "source": [
    "# Konlpy를 이용한 한국어 텍스트 토크나이징 실습\n",
    "\n",
    "이 노트북은 고등학교 1학년 학생들을 대상으로 자연어 처리의 기본 개념인 토크나이징(Tokenizing)에 대해 설명하고, Konlpy 라이브러리를 사용하여 한국어 문장을 토크나이징하는 예제를 포함하고 있습니다."
   ]
  },
  {
   "cell_type": "markdown",
   "id": "7339f1f4",
   "metadata": {},
   "source": [
    "## Konlpy 라이브러리 설치\n",
    "\n",
    "먼저, Konlpy 라이브러리를 설치해야 합니다. 아래의 명령어를 실행하여 라이브러리를 설치합니다."
   ]
  },
  {
   "cell_type": "code",
   "execution_count": null,
   "id": "0ae5b88b",
   "metadata": {},
   "outputs": [],
   "source": [
    "!pip install konlpy"
   ]
  },
  {
   "cell_type": "markdown",
   "id": "dd52963b",
   "metadata": {},
   "source": [
    "## Okt 형태소 분석기 객체 생성\n",
    "\n",
    "Okt 형태소 분석기를 사용하여 문장을 형태소 단위로 나눌 수 있습니다. 먼저, Okt 객체를 생성합니다."
   ]
  },
  {
   "cell_type": "code",
   "execution_count": null,
   "id": "4605869c",
   "metadata": {},
   "outputs": [],
   "source": [
    "from konlpy.tag import Okt\n",
    "\n",
    "# Okt 형태소 분석기 객체 생성\n",
    "okt = Okt()"
   ]
  },
  {
   "cell_type": "markdown",
   "id": "2670a61c",
   "metadata": {},
   "source": [
    "## 분석할 문장 설정\n",
    "\n",
    "분석할 문장을 설정합니다. 여기서는 예시로 \"안녕하세요. 자연어 처리는 정말 재미있습니다!\"를 사용합니다."
   ]
  },
  {
   "cell_type": "code",
   "execution_count": null,
   "id": "cbad0960",
   "metadata": {},
   "outputs": [],
   "source": [
    "# 분석할 문장\n",
    "sentence = \"안녕하세요. 자연어 처리는 정말 재미있습니다!\""
   ]
  },
  {
   "cell_type": "markdown",
   "id": "d81572de",
   "metadata": {},
   "source": [
    "## 형태소 단위로 토크나이징\n",
    "\n",
    "Okt 객체의 `morphs` 메서드를 사용하여 문장을 형태소 단위로 나눕니다."
   ]
  },
  {
   "cell_type": "code",
   "execution_count": null,
   "id": "729595c9",
   "metadata": {},
   "outputs": [],
   "source": [
    "# 형태소 단위로 토크나이징\n",
    "tokens = okt.morphs(sentence)\n",
    "tokens"
   ]
  },
  {
   "cell_type": "markdown",
   "id": "f164bc60",
   "metadata": {},
   "source": [
    "## 결과 출력\n",
    "\n",
    "원본 문장과 토크나이징 결과를 출력합니다."
   ]
  },
  {
   "cell_type": "code",
   "execution_count": null,
   "id": "47fdbdfa",
   "metadata": {},
   "outputs": [],
   "source": [
    "print(\"원본 문장:\", sentence)\n",
    "print(\"토크나이징 결과:\", tokens)"
   ]
  },
  {
   "cell_type": "markdown",
   "id": "694f2560",
   "metadata": {},
   "source": [
    "## 추가 실습\n",
    "\n",
    "여러분이 직접 문장을 입력하고 토크나이징 결과를 확인해보세요."
   ]
  },
  {
   "cell_type": "code",
   "execution_count": null,
   "id": "ad3bb5f5",
   "metadata": {},
   "outputs": [],
   "source": [
    "# 추가 실습\n",
    "# 문장을 입력하세요\n",
    "my_sentence = \"여기에 문장을 입력하세요\"\n",
    "\n",
    "# 형태소 단위로 토크나이징\n",
    "my_tokens = okt.morphs(my_sentence)\n",
    "print(\"원본 문장:\", my_sentence)\n",
    "print(\"토크나이징 결과:\", my_tokens)"
   ]
  }
 ],
 "metadata": {},
 "nbformat": 4,
 "nbformat_minor": 5
}
